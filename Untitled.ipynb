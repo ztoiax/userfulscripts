{
 "cells": [
  {
   "cell_type": "code",
   "execution_count": 1,
   "id": "c95e9f39",
   "metadata": {},
   "outputs": [
    {
     "name": "stdout",
     "output_type": "stream",
     "text": [
      "█\r"
     ]
    },
    {
     "name": "stderr",
     "output_type": "stream",
     "text": [
      "Getting uuid of QR code.\n",
      "Downloading QR code.\n",
      "Please scan the QR code to log in.\n",
      "Loading the contact, this may take a little while.\n",
      "Login successfully as Tz晓\n",
      "Traceback (most recent call last):\n",
      "  File \"/usr/lib/python3.9/site-packages/itchat/components/login.py\", line 239, in maintain_loop\n",
      "    msgList = produce_msg(self, msgList)\n",
      "  File \"/usr/lib/python3.9/site-packages/itchat/components/messages.py\", line 56, in produce_msg\n",
      "    utils.msg_formatter(m, 'Content')\n",
      "  File \"/usr/lib/python3.9/site-packages/itchat/utils.py\", line 69, in msg_formatter\n",
      "    d[k]  = htmlParser.unescape(d[k])\n",
      "AttributeError: 'HTMLParser' object has no attribute 'unescape'\n",
      "\n"
     ]
    }
   ],
   "source": [
    "from pyecharts.charts import Pie\n",
    "from wxpy import *\n",
    "\n",
    "bot = Bot(cache_path=True)"
   ]
  },
  {
   "cell_type": "code",
   "execution_count": 2,
   "id": "96dd207e",
   "metadata": {},
   "outputs": [
    {
     "ename": "NameError",
     "evalue": "name 'friends_stat' is not defined",
     "output_type": "error",
     "traceback": [
      "\u001b[0;31m---------------------------------------------------------------------------\u001b[0m",
      "\u001b[0;31mNameError\u001b[0m                                 Traceback (most recent call last)",
      "\u001b[0;32m<ipython-input-2-4df8ee15db4f>\u001b[0m in \u001b[0;36m<module>\u001b[0;34m\u001b[0m\n\u001b[1;32m      2\u001b[0m \u001b[0mk_list\u001b[0m \u001b[0;34m=\u001b[0m \u001b[0;34m[\u001b[0m\u001b[0;34m]\u001b[0m\u001b[0;34m\u001b[0m\u001b[0;34m\u001b[0m\u001b[0m\n\u001b[1;32m      3\u001b[0m \u001b[0mv_list\u001b[0m \u001b[0;34m=\u001b[0m \u001b[0;34m[\u001b[0m\u001b[0;34m]\u001b[0m\u001b[0;34m\u001b[0m\u001b[0;34m\u001b[0m\u001b[0m\n\u001b[0;32m----> 4\u001b[0;31m \u001b[0;32mfor\u001b[0m \u001b[0mprovince\u001b[0m\u001b[0;34m,\u001b[0m \u001b[0mcount\u001b[0m \u001b[0;32min\u001b[0m \u001b[0mfriends_stat\u001b[0m\u001b[0;34m[\u001b[0m\u001b[0;34m\"province\"\u001b[0m\u001b[0;34m]\u001b[0m\u001b[0;34m.\u001b[0m\u001b[0mitems\u001b[0m\u001b[0;34m(\u001b[0m\u001b[0;34m)\u001b[0m\u001b[0;34m:\u001b[0m\u001b[0;34m\u001b[0m\u001b[0;34m\u001b[0m\u001b[0m\n\u001b[0m\u001b[1;32m      5\u001b[0m     \u001b[0;32mif\u001b[0m \u001b[0mprovince\u001b[0m \u001b[0;34m!=\u001b[0m \u001b[0;34m\"\"\u001b[0m\u001b[0;34m:\u001b[0m\u001b[0;34m\u001b[0m\u001b[0;34m\u001b[0m\u001b[0m\n\u001b[1;32m      6\u001b[0m         \u001b[0mfriend_loc\u001b[0m\u001b[0;34m.\u001b[0m\u001b[0mappend\u001b[0m\u001b[0;34m(\u001b[0m\u001b[0;34m[\u001b[0m\u001b[0mprovince\u001b[0m\u001b[0;34m,\u001b[0m \u001b[0mcount\u001b[0m\u001b[0;34m]\u001b[0m\u001b[0;34m)\u001b[0m\u001b[0;34m\u001b[0m\u001b[0;34m\u001b[0m\u001b[0m\n",
      "\u001b[0;31mNameError\u001b[0m: name 'friends_stat' is not defined"
     ]
    }
   ],
   "source": [
    "friend_loc = []\n",
    "k_list = []\n",
    "v_list = []\n",
    "for province, count in friends_stat[\"province\"].items():\n",
    "    if province != \"\": \n",
    "        friend_loc.append([province, count])\n",
    "\n",
    "friend_loc.sort(key=lambda x: x[1], reverse=True)\n",
    "for k, v in friend_loc[:10]:\n",
    "     k_list.append(k)\n",
    "     v_list.append(v)\n",
    "\n",
    "\n",
    "    "
   ]
  },
  {
   "cell_type": "code",
   "execution_count": 3,
   "id": "10ce2b27",
   "metadata": {},
   "outputs": [
    {
     "name": "stderr",
     "output_type": "stream",
     "text": [
      "Traceback (most recent call last):\n",
      "  File \"/usr/lib/python3.9/site-packages/itchat/components/login.py\", line 239, in maintain_loop\n",
      "    msgList = produce_msg(self, msgList)\n",
      "  File \"/usr/lib/python3.9/site-packages/itchat/components/messages.py\", line 54, in produce_msg\n",
      "    produce_group_chat(core, m)\n",
      "  File \"/usr/lib/python3.9/site-packages/itchat/components/messages.py\", line 226, in produce_group_chat\n",
      "    utils.msg_formatter(msg, 'Content')\n",
      "  File \"/usr/lib/python3.9/site-packages/itchat/utils.py\", line 69, in msg_formatter\n",
      "    d[k]  = htmlParser.unescape(d[k])\n",
      "AttributeError: 'HTMLParser' object has no attribute 'unescape'\n",
      "\n"
     ]
    }
   ],
   "source": [
    "friends_stat = bot.friends().stats()\n",
    "\n",
    "friend_loc = []\n",
    "k_list = []\n",
    "v_list = []\n",
    "for province, count in friends_stat[\"province\"].items():\n",
    "    if province != \"\": \n",
    "        friend_loc.append([province, count])\n",
    "\n",
    "friend_loc.sort(key=lambda x: x[1], reverse=True)\n",
    "for k, v in friend_loc[:10]:\n",
    "     k_list.append(k)\n",
    "     v_list.append(v)\n",
    "\n"
   ]
  },
  {
   "cell_type": "code",
   "execution_count": 4,
   "id": "5aa921c1",
   "metadata": {},
   "outputs": [
    {
     "ename": "AttributeError",
     "evalue": "'str' object has no attribute 'get'",
     "output_type": "error",
     "traceback": [
      "\u001b[0;31m---------------------------------------------------------------------------\u001b[0m",
      "\u001b[0;31mAttributeError\u001b[0m                            Traceback (most recent call last)",
      "\u001b[0;32m<ipython-input-4-aa40dc8a3c52>\u001b[0m in \u001b[0;36m<module>\u001b[0;34m\u001b[0m\n\u001b[0;32m----> 1\u001b[0;31m \u001b[0mpie\u001b[0m \u001b[0;34m=\u001b[0m \u001b[0mPie\u001b[0m\u001b[0;34m(\u001b[0m\u001b[0;34m'省份数量统计'\u001b[0m\u001b[0;34m)\u001b[0m\u001b[0;34m\u001b[0m\u001b[0;34m\u001b[0m\u001b[0m\n\u001b[0m\u001b[1;32m      2\u001b[0m \u001b[0mpie\u001b[0m\u001b[0;34m.\u001b[0m\u001b[0madd\u001b[0m\u001b[0;34m(\u001b[0m\u001b[0;34m''\u001b[0m\u001b[0;34m,\u001b[0m \u001b[0mk_list\u001b[0m\u001b[0;34m,\u001b[0m \u001b[0mv_list\u001b[0m\u001b[0;34m,\u001b[0m \u001b[0mis_label_show\u001b[0m\u001b[0;34m=\u001b[0m\u001b[0;32mTrue\u001b[0m\u001b[0;34m,\u001b[0m \u001b[0mcenter\u001b[0m\u001b[0;34m=\u001b[0m\u001b[0;34m[\u001b[0m\u001b[0;36m50\u001b[0m\u001b[0;34m,\u001b[0m \u001b[0;36m60\u001b[0m\u001b[0;34m]\u001b[0m\u001b[0;34m)\u001b[0m\u001b[0;34m\u001b[0m\u001b[0;34m\u001b[0m\u001b[0m\n\u001b[1;32m      3\u001b[0m \u001b[0mpie\u001b[0m\u001b[0;34m.\u001b[0m\u001b[0mrender\u001b[0m\u001b[0;34m(\u001b[0m\u001b[0;34m)\u001b[0m\u001b[0;34m\u001b[0m\u001b[0;34m\u001b[0m\u001b[0m\n",
      "\u001b[0;32m/usr/lib/python3.9/site-packages/pyecharts/charts/chart.py\u001b[0m in \u001b[0;36m__init__\u001b[0;34m(self, init_opts)\u001b[0m\n\u001b[1;32m     12\u001b[0m             \u001b[0mtemp_opts\u001b[0m\u001b[0;34m.\u001b[0m\u001b[0mupdate\u001b[0m\u001b[0;34m(\u001b[0m\u001b[0;34m**\u001b[0m\u001b[0minit_opts\u001b[0m\u001b[0;34m)\u001b[0m\u001b[0;34m\u001b[0m\u001b[0;34m\u001b[0m\u001b[0m\n\u001b[1;32m     13\u001b[0m             \u001b[0minit_opts\u001b[0m \u001b[0;34m=\u001b[0m \u001b[0mtemp_opts\u001b[0m\u001b[0;34m\u001b[0m\u001b[0;34m\u001b[0m\u001b[0m\n\u001b[0;32m---> 14\u001b[0;31m         \u001b[0msuper\u001b[0m\u001b[0;34m(\u001b[0m\u001b[0;34m)\u001b[0m\u001b[0;34m.\u001b[0m\u001b[0m__init__\u001b[0m\u001b[0;34m(\u001b[0m\u001b[0minit_opts\u001b[0m\u001b[0;34m=\u001b[0m\u001b[0minit_opts\u001b[0m\u001b[0;34m)\u001b[0m\u001b[0;34m\u001b[0m\u001b[0;34m\u001b[0m\u001b[0m\n\u001b[0m\u001b[1;32m     15\u001b[0m         self.colors = (\n\u001b[1;32m     16\u001b[0m             \u001b[0;34m\"#c23531 #2f4554 #61a0a8 #d48265 #749f83 #ca8622 #bda29a #6e7074 \"\u001b[0m\u001b[0;34m\u001b[0m\u001b[0;34m\u001b[0m\u001b[0m\n",
      "\u001b[0;32m/usr/lib/python3.9/site-packages/pyecharts/charts/base.py\u001b[0m in \u001b[0;36m__init__\u001b[0;34m(self, init_opts)\u001b[0m\n\u001b[1;32m     27\u001b[0m             \u001b[0m_opts\u001b[0m \u001b[0;34m=\u001b[0m \u001b[0minit_opts\u001b[0m\u001b[0;34m.\u001b[0m\u001b[0mopts\u001b[0m\u001b[0;34m\u001b[0m\u001b[0;34m\u001b[0m\u001b[0m\n\u001b[1;32m     28\u001b[0m \u001b[0;34m\u001b[0m\u001b[0m\n\u001b[0;32m---> 29\u001b[0;31m         \u001b[0mself\u001b[0m\u001b[0;34m.\u001b[0m\u001b[0mwidth\u001b[0m \u001b[0;34m=\u001b[0m \u001b[0m_opts\u001b[0m\u001b[0;34m.\u001b[0m\u001b[0mget\u001b[0m\u001b[0;34m(\u001b[0m\u001b[0;34m\"width\"\u001b[0m\u001b[0;34m,\u001b[0m \u001b[0;34m\"900px\"\u001b[0m\u001b[0;34m)\u001b[0m\u001b[0;34m\u001b[0m\u001b[0;34m\u001b[0m\u001b[0m\n\u001b[0m\u001b[1;32m     30\u001b[0m         \u001b[0mself\u001b[0m\u001b[0;34m.\u001b[0m\u001b[0mheight\u001b[0m \u001b[0;34m=\u001b[0m \u001b[0m_opts\u001b[0m\u001b[0;34m.\u001b[0m\u001b[0mget\u001b[0m\u001b[0;34m(\u001b[0m\u001b[0;34m\"height\"\u001b[0m\u001b[0;34m,\u001b[0m \u001b[0;34m\"500px\"\u001b[0m\u001b[0;34m)\u001b[0m\u001b[0;34m\u001b[0m\u001b[0;34m\u001b[0m\u001b[0m\n\u001b[1;32m     31\u001b[0m         \u001b[0mself\u001b[0m\u001b[0;34m.\u001b[0m\u001b[0mrenderer\u001b[0m \u001b[0;34m=\u001b[0m \u001b[0m_opts\u001b[0m\u001b[0;34m.\u001b[0m\u001b[0mget\u001b[0m\u001b[0;34m(\u001b[0m\u001b[0;34m\"renderer\"\u001b[0m\u001b[0;34m,\u001b[0m \u001b[0mRenderType\u001b[0m\u001b[0;34m.\u001b[0m\u001b[0mCANVAS\u001b[0m\u001b[0;34m)\u001b[0m\u001b[0;34m\u001b[0m\u001b[0;34m\u001b[0m\u001b[0m\n",
      "\u001b[0;31mAttributeError\u001b[0m: 'str' object has no attribute 'get'"
     ]
    },
    {
     "name": "stderr",
     "output_type": "stream",
     "text": [
      "Traceback (most recent call last):\n",
      "  File \"/usr/lib/python3.9/site-packages/itchat/components/login.py\", line 239, in maintain_loop\n",
      "    msgList = produce_msg(self, msgList)\n",
      "  File \"/usr/lib/python3.9/site-packages/itchat/components/messages.py\", line 54, in produce_msg\n",
      "    produce_group_chat(core, m)\n",
      "  File \"/usr/lib/python3.9/site-packages/itchat/components/messages.py\", line 226, in produce_group_chat\n",
      "    utils.msg_formatter(msg, 'Content')\n",
      "  File \"/usr/lib/python3.9/site-packages/itchat/utils.py\", line 69, in msg_formatter\n",
      "    d[k]  = htmlParser.unescape(d[k])\n",
      "AttributeError: 'HTMLParser' object has no attribute 'unescape'\n",
      "\n",
      "Traceback (most recent call last):\n",
      "  File \"/usr/lib/python3.9/site-packages/itchat/components/login.py\", line 239, in maintain_loop\n",
      "    msgList = produce_msg(self, msgList)\n",
      "  File \"/usr/lib/python3.9/site-packages/itchat/components/messages.py\", line 54, in produce_msg\n",
      "    produce_group_chat(core, m)\n",
      "  File \"/usr/lib/python3.9/site-packages/itchat/components/messages.py\", line 226, in produce_group_chat\n",
      "    utils.msg_formatter(msg, 'Content')\n",
      "  File \"/usr/lib/python3.9/site-packages/itchat/utils.py\", line 69, in msg_formatter\n",
      "    d[k]  = htmlParser.unescape(d[k])\n",
      "AttributeError: 'HTMLParser' object has no attribute 'unescape'\n",
      "\n",
      "Traceback (most recent call last):\n",
      "  File \"/usr/lib/python3.9/site-packages/itchat/components/login.py\", line 239, in maintain_loop\n",
      "    msgList = produce_msg(self, msgList)\n",
      "  File \"/usr/lib/python3.9/site-packages/itchat/components/messages.py\", line 54, in produce_msg\n",
      "    produce_group_chat(core, m)\n",
      "  File \"/usr/lib/python3.9/site-packages/itchat/components/messages.py\", line 226, in produce_group_chat\n",
      "    utils.msg_formatter(msg, 'Content')\n",
      "  File \"/usr/lib/python3.9/site-packages/itchat/utils.py\", line 69, in msg_formatter\n",
      "    d[k]  = htmlParser.unescape(d[k])\n",
      "AttributeError: 'HTMLParser' object has no attribute 'unescape'\n",
      "\n"
     ]
    }
   ],
   "source": [
    "pie = Pie('省份数量统计')\n",
    "pie.add('', k_list, v_list, is_label_show=True, center=[50, 60])\n",
    "pie.render()\n"
   ]
  },
  {
   "cell_type": "code",
   "execution_count": 5,
   "id": "12d75acb",
   "metadata": {},
   "outputs": [
    {
     "name": "stderr",
     "output_type": "stream",
     "text": [
      "Traceback (most recent call last):\n",
      "  File \"/usr/lib/python3.9/site-packages/itchat/components/login.py\", line 239, in maintain_loop\n",
      "    msgList = produce_msg(self, msgList)\n",
      "  File \"/usr/lib/python3.9/site-packages/itchat/components/messages.py\", line 54, in produce_msg\n",
      "    produce_group_chat(core, m)\n",
      "  File \"/usr/lib/python3.9/site-packages/itchat/components/messages.py\", line 226, in produce_group_chat\n",
      "    utils.msg_formatter(msg, 'Content')\n",
      "  File \"/usr/lib/python3.9/site-packages/itchat/utils.py\", line 69, in msg_formatter\n",
      "    d[k]  = htmlParser.unescape(d[k])\n",
      "AttributeError: 'HTMLParser' object has no attribute 'unescape'\n",
      "\n"
     ]
    }
   ],
   "source": [
    "pie = Pie()\n"
   ]
  },
  {
   "cell_type": "code",
   "execution_count": 6,
   "id": "05681f0f",
   "metadata": {},
   "outputs": [
    {
     "ename": "TypeError",
     "evalue": "cannot unpack non-iterable int object",
     "output_type": "error",
     "traceback": [
      "\u001b[0;31m---------------------------------------------------------------------------\u001b[0m",
      "\u001b[0;31mTypeError\u001b[0m                                 Traceback (most recent call last)",
      "\u001b[0;32m<ipython-input-6-a38383ecfa31>\u001b[0m in \u001b[0;36m<module>\u001b[0;34m\u001b[0m\n\u001b[0;32m----> 1\u001b[0;31m \u001b[0mpie\u001b[0m\u001b[0;34m.\u001b[0m\u001b[0madd\u001b[0m\u001b[0;34m(\u001b[0m\u001b[0mk_list\u001b[0m\u001b[0;34m,\u001b[0m \u001b[0mv_list\u001b[0m\u001b[0;34m)\u001b[0m\u001b[0;34m\u001b[0m\u001b[0;34m\u001b[0m\u001b[0m\n\u001b[0m",
      "\u001b[0;32m/usr/lib/python3.9/site-packages/pyecharts/charts/basic_charts/pie.py\u001b[0m in \u001b[0;36madd\u001b[0;34m(self, series_name, data_pair, color, radius, center, rosetype, is_clockwise, label_opts, label_line_opts, tooltip_opts, itemstyle_opts, encode)\u001b[0m\n\u001b[1;32m     38\u001b[0m             \u001b[0mdata\u001b[0m \u001b[0;34m=\u001b[0m \u001b[0mdata_pair\u001b[0m\u001b[0;34m\u001b[0m\u001b[0;34m\u001b[0m\u001b[0m\n\u001b[1;32m     39\u001b[0m         \u001b[0;32melse\u001b[0m\u001b[0;34m:\u001b[0m\u001b[0;34m\u001b[0m\u001b[0;34m\u001b[0m\u001b[0m\n\u001b[0;32m---> 40\u001b[0;31m             \u001b[0mdata\u001b[0m \u001b[0;34m=\u001b[0m \u001b[0;34m[\u001b[0m\u001b[0;34m{\u001b[0m\u001b[0;34m\"name\"\u001b[0m\u001b[0;34m:\u001b[0m \u001b[0mn\u001b[0m\u001b[0;34m,\u001b[0m \u001b[0;34m\"value\"\u001b[0m\u001b[0;34m:\u001b[0m \u001b[0mv\u001b[0m\u001b[0;34m}\u001b[0m \u001b[0;32mfor\u001b[0m \u001b[0mn\u001b[0m\u001b[0;34m,\u001b[0m \u001b[0mv\u001b[0m \u001b[0;32min\u001b[0m \u001b[0mdata_pair\u001b[0m\u001b[0;34m]\u001b[0m\u001b[0;34m\u001b[0m\u001b[0;34m\u001b[0m\u001b[0m\n\u001b[0m\u001b[1;32m     41\u001b[0m \u001b[0;34m\u001b[0m\u001b[0m\n\u001b[1;32m     42\u001b[0m             \u001b[0;32mfor\u001b[0m \u001b[0ma\u001b[0m\u001b[0;34m,\u001b[0m \u001b[0m_\u001b[0m \u001b[0;32min\u001b[0m \u001b[0mdata_pair\u001b[0m\u001b[0;34m:\u001b[0m\u001b[0;34m\u001b[0m\u001b[0;34m\u001b[0m\u001b[0m\n",
      "\u001b[0;32m/usr/lib/python3.9/site-packages/pyecharts/charts/basic_charts/pie.py\u001b[0m in \u001b[0;36m<listcomp>\u001b[0;34m(.0)\u001b[0m\n\u001b[1;32m     38\u001b[0m             \u001b[0mdata\u001b[0m \u001b[0;34m=\u001b[0m \u001b[0mdata_pair\u001b[0m\u001b[0;34m\u001b[0m\u001b[0;34m\u001b[0m\u001b[0m\n\u001b[1;32m     39\u001b[0m         \u001b[0;32melse\u001b[0m\u001b[0;34m:\u001b[0m\u001b[0;34m\u001b[0m\u001b[0;34m\u001b[0m\u001b[0m\n\u001b[0;32m---> 40\u001b[0;31m             \u001b[0mdata\u001b[0m \u001b[0;34m=\u001b[0m \u001b[0;34m[\u001b[0m\u001b[0;34m{\u001b[0m\u001b[0;34m\"name\"\u001b[0m\u001b[0;34m:\u001b[0m \u001b[0mn\u001b[0m\u001b[0;34m,\u001b[0m \u001b[0;34m\"value\"\u001b[0m\u001b[0;34m:\u001b[0m \u001b[0mv\u001b[0m\u001b[0;34m}\u001b[0m \u001b[0;32mfor\u001b[0m \u001b[0mn\u001b[0m\u001b[0;34m,\u001b[0m \u001b[0mv\u001b[0m \u001b[0;32min\u001b[0m \u001b[0mdata_pair\u001b[0m\u001b[0;34m]\u001b[0m\u001b[0;34m\u001b[0m\u001b[0;34m\u001b[0m\u001b[0m\n\u001b[0m\u001b[1;32m     41\u001b[0m \u001b[0;34m\u001b[0m\u001b[0m\n\u001b[1;32m     42\u001b[0m             \u001b[0;32mfor\u001b[0m \u001b[0ma\u001b[0m\u001b[0;34m,\u001b[0m \u001b[0m_\u001b[0m \u001b[0;32min\u001b[0m \u001b[0mdata_pair\u001b[0m\u001b[0;34m:\u001b[0m\u001b[0;34m\u001b[0m\u001b[0;34m\u001b[0m\u001b[0m\n",
      "\u001b[0;31mTypeError\u001b[0m: cannot unpack non-iterable int object"
     ]
    }
   ],
   "source": [
    "pie.add(k_list, v_list)\n"
   ]
  },
  {
   "cell_type": "code",
   "execution_count": null,
   "id": "63b501f8",
   "metadata": {},
   "outputs": [],
   "source": []
  }
 ],
 "metadata": {
  "kernelspec": {
   "display_name": "Python 3",
   "language": "python",
   "name": "python3"
  },
  "language_info": {
   "codemirror_mode": {
    "name": "ipython",
    "version": 3
   },
   "file_extension": ".py",
   "mimetype": "text/x-python",
   "name": "python",
   "nbconvert_exporter": "python",
   "pygments_lexer": "ipython3",
   "version": "3.9.3"
  }
 },
 "nbformat": 4,
 "nbformat_minor": 5
}
